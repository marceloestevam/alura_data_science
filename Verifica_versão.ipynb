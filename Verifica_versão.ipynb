{
  "nbformat": 4,
  "nbformat_minor": 0,
  "metadata": {
    "colab": {
      "provenance": [],
      "include_colab_link": true
    },
    "kernelspec": {
      "name": "python3",
      "display_name": "Python 3"
    }
  },
  "cells": [
    {
      "cell_type": "markdown",
      "metadata": {
        "id": "view-in-github",
        "colab_type": "text"
      },
      "source": [
        "<a href=\"https://colab.research.google.com/github/marceloestevam/alura_data_science/blob/develop/Verifica_vers%C3%A3o.ipynb\" target=\"_parent\"><img src=\"https://colab.research.google.com/assets/colab-badge.svg\" alt=\"Open In Colab\"/></a>"
      ]
    },
    {
      "metadata": {
        "id": "gSHqMRhFzcAb"
      },
      "cell_type": "code",
      "source": [
        "import pandas\n",
        "import numpy\n",
        "import seaborn\n",
        "import scipy"
      ],
      "execution_count": 1,
      "outputs": []
    },
    {
      "metadata": {
        "id": "GQ5bxfxXzvKp",
        "colab": {
          "base_uri": "https://localhost:8080/"
        },
        "outputId": "b54c1755-1df5-4252-d4cd-5b1841cbc459"
      },
      "cell_type": "code",
      "source": [
        "print('Versão do pandas -> %s' % pandas.__version__)\n",
        "print('Versão do numpy -> %s' % numpy.__version__)\n",
        "print('Versão do seaborn -> %s' % seaborn.__version__)\n",
        "print('Versão do scipy -> %s' % scipy.__version__)"
      ],
      "execution_count": 2,
      "outputs": [
        {
          "output_type": "stream",
          "name": "stdout",
          "text": [
            "Versão do pandas -> 1.5.3\n",
            "Versão do numpy -> 1.23.5\n",
            "Versão do seaborn -> 0.12.2\n",
            "Versão do scipy -> 1.11.3\n"
          ]
        }
      ]
    },
    {
      "metadata": {
        "id": "IYakhWIx0Erv"
      },
      "cell_type": "code",
      "source": [],
      "execution_count": null,
      "outputs": []
    }
  ]
}